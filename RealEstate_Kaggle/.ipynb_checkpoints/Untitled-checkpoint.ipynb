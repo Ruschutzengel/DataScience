{
 "cells": [
  {
   "cell_type": "markdown",
   "metadata": {},
   "source": [
    "# 1. Анализ файла train.csv\n",
    "\n",
    "\n",
    "## 1.1. Основные статистики по каждому признаку\n",
    "\n",
    "- Расчет основных статистик (минимальные, максимальные, средние значения и т.д).\n",
    "- Выводы об адекватности этих статистик.\n",
    "- Посчитать для каждого признака, сколько в нем уникальных значений и как часто они встречаются.\n",
    "- Сделать выводы по каждому признаку.\n",
    "\n",
    "### 1.2 Анализ и работа с заполнением данных\n",
    "\n",
    "- Используя выводы из п 1.1  найти те наблюдения, где есть пропуски, выбросы или неадекватные значения, используя фильтрацию из pandas, чтобы  оставить только самые \"правильные\" данные."
   ]
  },
  {
   "cell_type": "code",
   "execution_count": null,
   "metadata": {},
   "outputs": [],
   "source": []
  }
 ],
 "metadata": {
  "kernelspec": {
   "display_name": "Python 3",
   "language": "python",
   "name": "python3"
  },
  "language_info": {
   "codemirror_mode": {
    "name": "ipython",
    "version": 3
   },
   "file_extension": ".py",
   "mimetype": "text/x-python",
   "name": "python",
   "nbconvert_exporter": "python",
   "pygments_lexer": "ipython3",
   "version": "3.8.5"
  }
 },
 "nbformat": 4,
 "nbformat_minor": 4
}
